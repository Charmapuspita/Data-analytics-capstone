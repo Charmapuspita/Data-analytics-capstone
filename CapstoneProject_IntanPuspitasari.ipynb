{
 "cells": [
  {
   "cell_type": "code",
   "execution_count": null,
   "id": "637bb588-bf35-45ac-aa23-61033aaabe90",
   "metadata": {},
   "outputs": [],
   "source": [
    "import pandas as pd\n",
    "from holoviews.plotting.bokeh.styles import font_size\n",
    "from mypyc.primitives.misc_ops import dataclass_sleight_of_hand\n",
    "\n",
    "pd.set_option(\"display.max_columns\", None)\n",
    "pd.set_option(\"display.width\", None)\n",
    "pd.set_option(\"display.max_rows\", None)\n",
    "import numpy as py\n",
    "import matplotlib.pyplot as plt\n",
    "import warnings\n",
    "warnings.filterwarnings(\"ignore\")\n",
    "import seaborn as sns\n",
    "\n",
    "import numpy as np\n"
   ]
  },
  {
   "cell_type": "code",
   "execution_count": null,
   "id": "76b52fd5-f8ec-41db-bf1e-1d87551d2f2a",
   "metadata": {},
   "outputs": [],
   "source": [
    "path_to_file = \"C:/Users/Intan/DataAnalytics_AllWomen/Capstone_Project/Capstone_Project/Dataset-Happiness_Score.csv\"\n",
    "data = pd.read_csv(path_to_file)"
   ]
  },
  {
   "cell_type": "code",
   "execution_count": null,
   "id": "0800f28b-7996-4e3c-9522-e64871d3dcb4",
   "metadata": {},
   "outputs": [],
   "source": [
    "# rename the column title by replacing space to underscore, to fix formatting\n",
    "data.columns = data.columns.str.replace(\" \", \"_\") "
   ]
  },
  {
   "cell_type": "code",
   "execution_count": null,
   "id": "419f9c5c-811a-435d-8dfd-d27bcea9fc5d",
   "metadata": {},
   "outputs": [],
   "source": [
    "# delete these columns as these dont have any useful info\n",
    "data = data.drop([\"Unnamed:_0.1\", \"Unnamed:_0\"], axis=1) "
   ]
  },
  {
   "cell_type": "markdown",
   "id": "d4e856da-373e-4de5-aa77-3b2f4150a694",
   "metadata": {},
   "source": [
    "#==========================================================================\n",
    "# (1) DATA CLEANING\n",
    "#============================================================================"
   ]
  },
  {
   "cell_type": "code",
   "execution_count": null,
   "id": "4eb150c5-c33c-44ae-bbdd-8b7ed12910fd",
   "metadata": {},
   "outputs": [],
   "source": [
    "print(data.shape) # (312, 10)\n",
    "print(data.info()) # info about the data float64(7), int64(2), object(1)\n",
    "print(data.head()) # to check the first couple of rows"
   ]
  },
  {
   "cell_type": "raw",
   "id": "03902c90-3849-4804-bb8b-3445a23c3e9f",
   "metadata": {},
   "source": [
    "Check unwanted/missing values in each column & to check the total number of missing values"
   ]
  },
  {
   "cell_type": "code",
   "execution_count": null,
   "id": "1f1bb5d6-4c3a-416d-90b9-139d6251109c",
   "metadata": {},
   "outputs": [],
   "source": [
    "print(data.isnull().sum()) \n",
    "print(data.isnull().sum()*100/len(data)) \n",
    "print(data[\"Overall rank\"].value_counts())\n",
    "print(data[\"Country_or_region\"].value_counts())\n",
    "print(data[\"Score\"].value_counts())\n",
    "print(data[\"GDP per capita\"].value_counts())\n",
    "print(data[\"Social support\"].value_counts())\n",
    "print(data[\"Healthy life expectancy\"].value_counts())\n",
    "print(data[\"Freedom to make life choices\"].value_counts())\n",
    "print(data[\"Generosity\"].value_counts())\n",
    "print(data[\"Perceptions of corruption\"].value_counts())\n",
    "print(data[\"year\"].value_counts()) # 2018: 156 data and 2019: 156 data"
   ]
  },
  {
   "cell_type": "raw",
   "id": "ef77bd61-bff6-4863-88c5-4318c585246e",
   "metadata": {},
   "source": [
    "Splitting the year 2018 and 2019 before the data cleaning"
   ]
  },
  {
   "cell_type": "code",
   "execution_count": null,
   "id": "ac14ec3d-48b9-480c-9560-f5a18da2a214",
   "metadata": {},
   "outputs": [],
   "source": [
    "data_2018 = data[data['year'] == 2018]\n",
    "data_2019 = data[data['year'] == 2019]"
   ]
  },
  {
   "cell_type": "code",
   "execution_count": null,
   "id": "2be11b3e-7cce-48a1-a412-b7378ada6770",
   "metadata": {},
   "outputs": [],
   "source": [
    "print(data_2019.isnull().sum()*100/len(data_2019)) # missing values in Healthy_life_expectancy: 99%, perceptions of corruption: 0.3%\n",
    "print(data_2018.isnull().sum()*100/len(data_2018)) # missing values in Healthy_life_expectancy: 96%\n",
    "print(data_2018.duplicated().sum()) # result:0\n",
    "print(data_2019.duplicated().sum()) # result:0"
   ]
  },
  {
   "cell_type": "raw",
   "id": "7bf2d00a-1f4a-4325-b52e-706b465fe8c1",
   "metadata": {},
   "source": [
    "Drop the rows with missing values in column \"Perceptions_of_corruption\""
   ]
  },
  {
   "cell_type": "code",
   "execution_count": null,
   "id": "0b669f24-d591-471f-a101-4858932a1a38",
   "metadata": {},
   "outputs": [],
   "source": [
    "data_2018.dropna(subset=[\"Perceptions_of_corruption\"], axis=0, inplace=True)"
   ]
  },
  {
   "cell_type": "raw",
   "id": "6fe4a101-6b48-4e65-b179-8fc9a4805916",
   "metadata": {},
   "source": [
    "Drop the column \"Healthy_life_expectancy\" in both years since the missing values dominates the data for this column"
   ]
  },
  {
   "cell_type": "code",
   "execution_count": null,
   "id": "7176c144-6722-4087-a218-521c5586a971",
   "metadata": {},
   "outputs": [],
   "source": [
    "data_2018 = data_2018.drop([\"Healthy_life_expectancy\"], axis=1)\n",
    "data_2019 = data_2019.drop([\"Healthy_life_expectancy\"], axis=1)"
   ]
  },
  {
   "cell_type": "markdown",
   "id": "a463aabb-d933-4739-8beb-5cd09155c678",
   "metadata": {},
   "source": [
    "#==============================================\n",
    "# (2) UNIVARIATE ANALYSIS\n",
    "#=============================================="
   ]
  },
  {
   "cell_type": "raw",
   "id": "a129e187-800c-43f2-9463-2ea29aa770a3",
   "metadata": {},
   "source": [
    "The following factors will be used to analyze outliers: 'Score', 'GDP_per_capita', 'Social_support', 'Freedom_to_make_life_choices', 'Generosity', and 'Perceptions_of_corruption'.\n",
    "(note: 'Overall_rank', 'Country_or_region', 'year': they don't need outlier analysis)"
   ]
  },
  {
   "cell_type": "markdown",
   "id": "73e0005e-c1d6-44bf-80f2-5512c80202cc",
   "metadata": {},
   "source": [
    "# (2.1) OUTLIER DETECTION & HANDLING\n",
    "IQR to set confidence limit for all affected columns - 2018 & 2019"
   ]
  },
  {
   "cell_type": "code",
   "execution_count": null,
   "id": "3fa0b8fd-9fa0-4cf3-8383-11b195308f3e",
   "metadata": {},
   "outputs": [],
   "source": [
    "columns = ['Score', 'GDP_per_capita', 'Social_support', 'Freedom_to_make_life_choices', 'Generosity','Perceptions_of_corruption']\n",
    "data_iqr_2018 = data_2018.copy()\n",
    "for col in columns:\n",
    "    q1 = data_iqr_2018[col].quantile(0.25)\n",
    "    q3 = data_iqr_2018[col].quantile(0.75)\n",
    "    iqr = q3 - q1\n",
    "    lower_limit = (q1 - 1.5 * iqr)\n",
    "    upper_limit = (q3 + 1.5 * iqr)\n",
    "    data_iqr_2018 = data_iqr_2018[(data_iqr_2018[col] > lower_limit) & (data_iqr_2018[col] < upper_limit)]\n",
    "\n",
    "data_iqr_2019 = data_2019.copy()\n",
    "for col in columns:\n",
    "    q1 = data_iqr_2019[col].quantile(0.25)\n",
    "    q3 = data_iqr_2019[col].quantile(0.75)\n",
    "    iqr = q3 - q1\n",
    "    lower_limit = (q1 - 1.5 * iqr)\n",
    "    upper_limit = (q3 + 1.5 * iqr)\n",
    "    data_iqr_2019 = data_iqr_2019[(data_iqr_2019[col] > lower_limit) & (data_iqr_2019[col] < upper_limit)]"
   ]
  },
  {
   "cell_type": "markdown",
   "id": "c37357cd-82ce-48d2-9afa-a902cef07436",
   "metadata": {},
   "source": [
    "# (2.2) Histograms of relevant columns to look at the insight of the distribution"
   ]
  },
  {
   "cell_type": "code",
   "execution_count": null,
   "id": "c2af1e09-8359-4298-baf4-80f4761a66b5",
   "metadata": {},
   "outputs": [],
   "source": [
    "# Histogram of 2018\n",
    "\n",
    "columns = ['Score', 'GDP_per_capita', 'Social_support', 'Freedom_to_make_life_choices', 'Generosity','Perceptions_of_corruption']\n",
    "plt.figure(figsize=(20, 50))\n",
    "for i, col in enumerate(columns, 1):\n",
    "    plt.subplot(3, 2, i)\n",
    "    sns.histplot(data_iqr_2018[col], bins=20, kde=True, color=\"skyblue\", edgecolor=\"black\")\n",
    "    plt.title(f'Distribution of {col} 2018', fontsize=12, fontweight='bold')\n",
    "    plt.ylabel(\"Frequency\")\n",
    "    plt.xlabel(col)\n",
    "\n",
    "    mean = np.mean(data_iqr_2018[col])\n",
    "    median = np.median(data_iqr_2018[col])\n",
    "    plt.axvline(mean, color='red', linestyle='dashed', linewidth=1, label=f'Mean: {mean:.2f}')\n",
    "    plt.axvline(median, color='green', linestyle='dashed', linewidth=1, label=f'Median: {median:.2f}')\n",
    "    plt.legend(loc='upper right')\n",
    "\n",
    "    plt.subplots_adjust(hspace=0.5, wspace=0.3)\n",
    "\n",
    "plt.show()"
   ]
  },
  {
   "cell_type": "code",
   "execution_count": null,
   "id": "26e7d866-afe0-4de6-ba75-b1f288e2505f",
   "metadata": {},
   "outputs": [],
   "source": [
    "# Histogram of 2019\n",
    "\n",
    "columns = ['Score', 'GDP_per_capita', 'Social_support', 'Freedom_to_make_life_choices', 'Generosity','Perceptions_of_corruption']\n",
    "plt.figure(figsize=(20, 50))\n",
    "for i, col in enumerate(columns, 1):\n",
    "    plt.subplot(3, 2, i)\n",
    "    sns.histplot(data_iqr_2019[col], bins=20, kde=True, color=\"skyblue\", edgecolor=\"black\")\n",
    "    plt.title(f'Distribution of {col} 2019', fontsize=12, fontweight='bold')\n",
    "    plt.ylabel(\"Frequency\")\n",
    "    plt.xlabel(col)\n",
    "\n",
    "    mean = np.mean(data_iqr_2019[col])\n",
    "    median = np.median(data_iqr_2019[col])\n",
    "    plt.axvline(mean, color='red', linestyle='dashed', linewidth=1, label=f'Mean: {mean:.2f}')\n",
    "    plt.axvline(median, color='green', linestyle='dashed', linewidth=1, label=f'Median: {median:.2f}')\n",
    "    plt.legend(loc='upper right')\n",
    "\n",
    "    plt.subplots_adjust(hspace=0.5, wspace=0.3)\n",
    "\n",
    "plt.show()"
   ]
  },
  {
   "cell_type": "markdown",
   "id": "5ce2e4ee-f60e-4c3d-a15d-95cf7ac9e584",
   "metadata": {},
   "source": [
    "#==============================================\n",
    "# (3) BIVARIATE ANALYSIS\n",
    "#=============================================="
   ]
  },
  {
   "cell_type": "markdown",
   "id": "79dbf39e-9765-4695-b77d-66d6fd48a69f",
   "metadata": {},
   "source": [
    "# (3.1) Heatmap for above factors"
   ]
  },
  {
   "cell_type": "code",
   "execution_count": null,
   "id": "5f922ce9-ee55-45ac-9d33-6405c7a05100",
   "metadata": {},
   "outputs": [],
   "source": [
    "# Data Heatmap 2018 and 2019\n",
    "data_2018_heatmap = data_iqr_2018[columns]\n",
    "data_2019_heatmap = data_iqr_2019[columns]\n",
    "# Correlation Matrix 2018 and 2019\n",
    "corr_2018 = data_2018_heatmap.corr()\n",
    "corr_2019 = data_2019_heatmap.corr()"
   ]
  },
  {
   "cell_type": "code",
   "execution_count": null,
   "id": "7edbbcc2-85a5-4225-ba5a-1a5f9a800669",
   "metadata": {},
   "outputs": [],
   "source": [
    "# Plot Heatmap 2018\n",
    "\n",
    "plt.figure(figsize=(30,30))\n",
    "sns.heatmap(corr_2018, annot=True)\n",
    "plt.title(\"Correlation Heatmap of Happiness Parameters 2018\", fontsize=16)\n",
    "plt.xticks(rotation=0)\n",
    "plt.yticks(rotation=45)\n",
    "plt.show()"
   ]
  },
  {
   "cell_type": "code",
   "execution_count": null,
   "id": "d36ed821-dfcd-4b47-abaf-a4e306df8ccd",
   "metadata": {},
   "outputs": [],
   "source": [
    "# Plot Heatmap 2019\n",
    "\n",
    "plt.figure(figsize=(30,30))\n",
    "sns.heatmap(corr_2019, annot=True)\n",
    "plt.title(\"Correlation Heatmap of Happiness Parameters 2019\", fontsize=16)\n",
    "plt.xticks(rotation=0)\n",
    "plt.yticks(rotation=45)\n",
    "plt.show()"
   ]
  },
  {
   "cell_type": "markdown",
   "id": "382b0508-b891-41d2-90de-a287c33fc034",
   "metadata": {},
   "source": [
    "# (3.2) SCATTERPLOT - GDP_per_capita vs Score"
   ]
  },
  {
   "cell_type": "code",
   "execution_count": null,
   "id": "234e9c1d-4258-4837-8e88-a599fde84f6a",
   "metadata": {},
   "outputs": [],
   "source": [
    "plt.figure(figsize=(10, 6))\n",
    "plt.scatter(data_iqr_2018['GDP_per_capita'], data_iqr_2018['Score'], color='blue', alpha=0.7, label='2018', s=60)\n",
    "plt.scatter(data_iqr_2019['GDP_per_capita'], data_iqr_2019['Score'], color='orange', alpha=0.7, label='2019', s=60)\n",
    "sns.regplot(data=data_iqr_2018, x='GDP_per_capita', y='Score', scatter=False, color='blue', line_kws={\"linewidth\": 2})\n",
    "sns.regplot(data=data_iqr_2019, x='GDP_per_capita', y='Score', scatter=False, color='orange', line_kws={\"linewidth\": 2})\n",
    "plt.title('GDP per Capita vs Score (2018 and 2019)', fontsize=14)\n",
    "plt.xlabel('GDP per Capita', fontsize=12)\n",
    "plt.ylabel('Happiness Score', fontsize=12)\n",
    "plt.legend(title='Year')\n",
    "plt.grid(True)\n",
    "plt.show()"
   ]
  },
  {
   "cell_type": "markdown",
   "id": "38c6b227-d989-42c3-a055-05a381a38dd5",
   "metadata": {},
   "source": [
    "# (3.3) Scatterplot Social Support vs Score"
   ]
  },
  {
   "cell_type": "code",
   "execution_count": null,
   "id": "8a378a8d-28ea-4557-9357-a01c58d511ed",
   "metadata": {},
   "outputs": [],
   "source": [
    "plt.figure(figsize=(10, 6))\n",
    "plt.scatter(data_iqr_2018['Social_support'], data_iqr_2018['Score'], color='blue', alpha=0.7, label='2018')\n",
    "plt.scatter(data_iqr_2019['Social_support'], data_iqr_2019['Score'], color='orange', alpha=0.7, label='2019')\n",
    "sns.regplot(data=data_iqr_2018, x='Social_support', y='Score', scatter=False, color='blue', line_kws={\"linewidth\": 2})\n",
    "sns.regplot(data=data_iqr_2019, x='Social_support', y='Score', scatter=False, color='orange', line_kws={\"linewidth\": 2})\n",
    "plt.title('Social support vs Score (2018 and 2019)', fontsize=14)\n",
    "plt.xlabel('Social support', fontsize=12)\n",
    "plt.ylabel('Happiness Score', fontsize=12)\n",
    "plt.legend(title='Year')\n",
    "plt.grid(True)\n",
    "plt.show()"
   ]
  },
  {
   "cell_type": "markdown",
   "id": "e8b9e54c-e790-4d4f-9c85-7274fdfcc3d9",
   "metadata": {},
   "source": [
    "# (3.4) Scatterplot Freedom_to_make_life_choices vs Score"
   ]
  },
  {
   "cell_type": "code",
   "execution_count": null,
   "id": "4d351352-1325-436c-88b1-ad6a8482061e",
   "metadata": {},
   "outputs": [],
   "source": [
    "plt.figure(figsize=(10, 6))\n",
    "plt.scatter(data_iqr_2018['Freedom_to_make_life_choices'], data_iqr_2018['Score'], color='blue', alpha=0.7, label='2018')\n",
    "plt.scatter(data_iqr_2019['Freedom_to_make_life_choices'], data_iqr_2019['Score'], color='orange', alpha=0.7, label='2019')\n",
    "sns.regplot(data=data_iqr_2018, x='Freedom_to_make_life_choices', y='Score', scatter=False, color='blue', line_kws={\"linewidth\": 2})\n",
    "sns.regplot(data=data_iqr_2019, x='Freedom_to_make_life_choices', y='Score', scatter=False, color='orange', line_kws={\"linewidth\": 2})\n",
    "plt.title('Freedom_to_make_life_choices vs Score (2018 and 2019)', fontsize=14)\n",
    "plt.xlabel('Freedom_to_make_life_choices', fontsize=12)\n",
    "plt.ylabel('Happiness Score', fontsize=12)\n",
    "plt.legend(title='Year')\n",
    "plt.grid(True)\n",
    "plt.show()"
   ]
  },
  {
   "cell_type": "markdown",
   "id": "62be5ca3-ed67-42f8-af65-509a258ea4ef",
   "metadata": {},
   "source": [
    "# (3.5) Scatterplot GDP_per_capita vs Social_support"
   ]
  },
  {
   "cell_type": "code",
   "execution_count": null,
   "id": "8938baf6-dd8b-4fa1-93b4-d3869eab3141",
   "metadata": {},
   "outputs": [],
   "source": [
    "plt.figure(figsize=(10, 6))\n",
    "plt.scatter(data_iqr_2018['GDP_per_capita'], data_iqr_2018['Social_support'], color='blue', alpha=0.7, label='2018')\n",
    "plt.scatter(data_iqr_2019['GDP_per_capita'], data_iqr_2019['Social_support'], color='orange', alpha=0.7, label='2019')\n",
    "sns.regplot(data=data_iqr_2018, x='GDP_per_capita', y='Social_support', scatter=False, color='blue', line_kws={\"linewidth\": 2})\n",
    "sns.regplot(data=data_iqr_2019, x='GDP_per_capita', y='Social_support', scatter=False, color='orange', line_kws={\"linewidth\": 2})\n",
    "plt.title('GDP_per_capita vs Social_support (2018 and 2019)', fontsize=14)\n",
    "plt.xlabel('GDP_per_capita', fontsize=12)\n",
    "plt.ylabel('Social_support', fontsize=12)\n",
    "plt.legend(title='Year')\n",
    "plt.grid(True)\n",
    "plt.show()"
   ]
  }
 ],
 "metadata": {
  "kernelspec": {
   "display_name": "Python 3 (ipykernel)",
   "language": "python",
   "name": "python3"
  },
  "language_info": {
   "codemirror_mode": {
    "name": "ipython",
    "version": 3
   },
   "file_extension": ".py",
   "mimetype": "text/x-python",
   "name": "python",
   "nbconvert_exporter": "python",
   "pygments_lexer": "ipython3",
   "version": "3.8.19"
  }
 },
 "nbformat": 4,
 "nbformat_minor": 5
}
